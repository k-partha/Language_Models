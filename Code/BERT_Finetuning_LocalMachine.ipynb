{
 "nbformat": 4,
 "nbformat_minor": 0,
 "metadata": {
  "kernelspec": {
   "display_name": "Python 3",
   "language": "python",
   "name": "python3"
  },
  "language_info": {
   "codemirror_mode": {
    "name": "ipython",
    "version": 3
   },
   "file_extension": ".py",
   "mimetype": "text/x-python",
   "name": "python",
   "nbconvert_exporter": "python",
   "pygments_lexer": "ipython3",
   "version": "3.7.6"
  },
  "colab": {
   "name": "BERT_Finetuning.ipynb",
   "provenance": [],
   "collapsed_sections": [
    "xIuje1-Ve-67",
    "5xk9k0xgoTjE",
    "pRgxRkttoTjM",
    "koRIOArfoTjM",
    "qq6IR_LgoTjP",
    "slMtEO_FoTjR",
    "r8wE-4jioTjR",
    "-u_pJpTKoTjS"
   ],
   "machine_shape": "hm"
  },
  "accelerator": "GPU"
 },
 "cells": [
  {
   "cell_type": "markdown",
   "source": [
    "**Classifying users by personality type using their biographies**"
   ],
   "metadata": {
    "collapsed": false
   }
  },
  {
   "cell_type": "markdown",
   "source": [
    "**Loading the dataset**"
   ],
   "metadata": {
    "collapsed": false
   }
  },
  {
   "cell_type": "code",
   "execution_count": 81,
   "outputs": [
    {
     "name": "stdout",
     "output_type": "stream",
     "text": [
      "Thu Oct  7 19:50:01 2021       \n",
      "+-----------------------------------------------------------------------------+\n",
      "| NVIDIA-SMI 462.13       Driver Version: 462.13       CUDA Version: 11.2     |\n",
      "|-------------------------------+----------------------+----------------------+\n",
      "| GPU  Name            TCC/WDDM | Bus-Id        Disp.A | Volatile Uncorr. ECC |\n",
      "| Fan  Temp  Perf  Pwr:Usage/Cap|         Memory-Usage | GPU-Util  Compute M. |\n",
      "|                               |                      |               MIG M. |\n",
      "|===============================+======================+======================|\n",
      "|   0  GeForce RTX 307... WDDM  | 00000000:01:00.0 Off |                  N/A |\n",
      "| N/A   41C    P8    10W /  N/A |   4653MiB /  8192MiB |      0%      Default |\n",
      "|                               |                      |                  N/A |\n",
      "+-------------------------------+----------------------+----------------------+\n",
      "                                                                               \n",
      "+-----------------------------------------------------------------------------+\n",
      "| Processes:                                                                  |\n",
      "|  GPU   GI   CI        PID   Type   Process name                  GPU Memory |\n",
      "|        ID   ID                                                   Usage      |\n",
      "|=============================================================================|\n",
      "|    0   N/A  N/A     19404      C   ...ython\\Python39\\python.exe    N/A      |\n",
      "+-----------------------------------------------------------------------------+\n"
     ]
    }
   ],
   "source": [
    "!nvidia-smi"
   ],
   "metadata": {
    "collapsed": false,
    "pycharm": {
     "name": "#%%\n"
    }
   }
  },
  {
   "cell_type": "code",
   "execution_count": 82,
   "outputs": [],
   "source": [
    "import ast \n",
    "import sklearn\n",
    "import pandas as pd\n",
    "import transformers\n",
    "import torch\n",
    "from sklearn.model_selection import train_test_split\n",
    "import numpy as np\n",
    "from ast import literal_eval\n",
    "import seaborn as sns\n",
    "import time\n",
    "import datetime\n",
    "\n",
    "from torch.utils.data import TensorDataset, DataLoader, RandomSampler, SequentialSampler\n",
    "from sklearn.model_selection import train_test_split\n",
    "from torch.utils.data import TensorDataset, DataLoader, RandomSampler, SequentialSampler\n",
    "from sklearn.model_selection import train_test_split\n",
    "from transformers import BertTokenizer, BertConfig\n",
    "from transformers import AdamW, BertForSequenceClassification\n",
    "\n",
    "from tqdm import tqdm, trange\n",
    "import pandas as pd\n",
    "import io\n",
    "import pickle\n",
    "import os"
   ],
   "metadata": {
    "collapsed": false,
    "pycharm": {
     "name": "#%%\n"
    }
   }
  },
  {
   "cell_type": "code",
   "execution_count": 126,
   "outputs": [
    {
     "data": {
      "text/plain": "Index(['extravert', 'follow_back_pic_urls', 'follow_bios',\n       'follow_follows_counts', 'follow_profile_pic_urls',\n       'follow_stats_counts', 'intuitive', 'judging', 'lang', 'liked_media',\n       'liked_tweets', 'own_media', 'statuses', 'thinking', 'type', 'user_id',\n       'screen_name', 'name', 'bio', 'favorites_count:', 'statuses_count',\n       'follows_count', 'profile_back_url', 'profile_pic_url', 'queried_at',\n       'profile_embedding_resnet50', 'image_array'],\n      dtype='object')"
     },
     "execution_count": 126,
     "metadata": {},
     "output_type": "execute_result"
    }
   ],
   "source": [
    "def from_np_array(array_string):\n",
    "    array_string = ','.join(array_string.replace('[ ', '[').split())\n",
    "    return np.array(ast.literal_eval(array_string))\n",
    "\n",
    "folder_path = 'C:/Users/parth/PycharmProjects/Language Models/Data/master_v2.3.csv'\n",
    "\n",
    "origin_df = pd.read_pickle(folder_path)\n",
    "\n",
    "origin_df.columns"
   ],
   "metadata": {
    "collapsed": false,
    "pycharm": {
     "name": "#%%\n"
    }
   }
  },
  {
   "cell_type": "code",
   "execution_count": 84,
   "outputs": [],
   "source": [
    "df = origin_df[['extravert', 'thinking', 'intuitive', 'judging', 'bio', 'liked_tweets', 'statuses']].sample(frac = 1).reset_index(drop = True)"
   ],
   "metadata": {
    "collapsed": false,
    "pycharm": {
     "name": "#%%\n"
    }
   }
  },
  {
   "cell_type": "code",
   "execution_count": 112,
   "outputs": [],
   "source": [
    "def sanitize(x):\n",
    "  x = x.replace(\"INTP\", \"\")\n",
    "  x = x.replace(\"INTJ\", \"\")\n",
    "  x = x.replace(\"INFP\", \"\")\n",
    "  x = x.replace(\"INFJ\", \"\")\n",
    "  x = x.replace(\"ISTP\", \"\")\n",
    "  x = x.replace(\"ISTJ\", \"\")\n",
    "  x = x.replace(\"ISFP\", \"\")\n",
    "  x = x.replace(\"ISFJ\", \"\")\n",
    "  x = x.replace(\"ENTP\", \"\")\n",
    "  x = x.replace(\"ENTJ\", \"\")\n",
    "  x = x.replace(\"ENFP\", \"\")\n",
    "  x = x.replace(\"ENFJ\", \"\")\n",
    "  x = x.replace(\"ESTP\", \"\")\n",
    "  x = x.replace(\"ESTJ\", \"\")\n",
    "  x = x.replace(\"ESFP\", \"\")\n",
    "  x = x.replace(\"ESFJ\", \"\")\n",
    "  x = x.replace(\"intp\", \"\")\n",
    "  x = x.replace(\"intj\", \"\")\n",
    "  x = x.replace(\"infp\", \"\")\n",
    "  x = x.replace(\"infj\", \"\")\n",
    "  x = x.replace(\"istp\", \"\")\n",
    "  x = x.replace(\"istj\", \"\")\n",
    "  x = x.replace(\"isfp\", \"\")\n",
    "  x = x.replace(\"isfj\", \"\")\n",
    "  x = x.replace(\"entp\", \"\")\n",
    "  x = x.replace(\"entj\", \"\")\n",
    "  x = x.replace(\"enfp\", \"\")\n",
    "  x = x.replace(\"enfj\", \"\")\n",
    "  x = x.replace(\"estp\", \"\")\n",
    "  x = x.replace(\"estj\", \"\")\n",
    "  x = x.replace(\"esfp\", \"\")\n",
    "  x = x.replace(\"esfj\", \"\")\n",
    "\n",
    "  return x\n",
    "\n",
    "def remove_urls(x):\n",
    "  r = ''\n",
    "  s = x.split()\n",
    "  for word in s:\n",
    "    if word.startswith('@'):\n",
    "      r+= ' ' + '@mention'\n",
    "    elif len(word)<20:\n",
    "      r+= ' ' + word\n",
    "  return r\n",
    "\n",
    "def format_time(elapsed):\n",
    "    \n",
    "    elapsed_rounded = int(round((elapsed)))\n",
    "    \n",
    "    return str(datetime.timedelta(seconds=elapsed_rounded))\n",
    "\n",
    "def flat_accuracy(preds, labels):\n",
    "    #print(preds)\n",
    "   # print(labels)\n",
    "    pred_flat = np.argmax(preds, axis=1).flatten()\n",
    "    labels_flat = labels.numpy().flatten()\n",
    "\n",
    "   # print(pred_flat)\n",
    "   # print(labels_flat)\n",
    "    \n",
    "    return np.sum(pred_flat == labels_flat) / len(labels_flat)\n",
    "\n",
    "def compute_params(text_type, target_mode):\n",
    "    \n",
    "    MAX_LEN = 512\n",
    "    num_epochs = 3\n",
    "    batch_size = 16\n",
    "    learning_rate = 1e-5\n",
    "\n",
    "    if text_type == 'bio':\n",
    "\n",
    "      MAX_LEN = 64\n",
    "      num_epochs = 3\n",
    "      batch_size = 8\n",
    "      learning_rate = 1e-5\n",
    "\n",
    "      if target_mode == 'judging':\n",
    "\n",
    "        num_epochs = 4\n",
    "        batch_size = 8\n",
    "        learning_rate = 1e-5\n",
    "      \n",
    "      if target_mode == 'intuitive':\n",
    "\n",
    "        num_epochs = 3\n",
    "        batch_size = 8\n",
    "        learning_rate = 1e-5\n",
    "      \n",
    "      if target_mode == 'extravert':\n",
    "\n",
    "        num_epochs = 3\n",
    "        batch_size = 16\n",
    "        learning_rate = 1e-5\n",
    "\n",
    "      return (MAX_LEN, num_epochs, learning_rate, batch_size)\n",
    "\n",
    "    if text_type == 'statuses':\n",
    "      \n",
    "      num_epochs = 3\n",
    "      batch_size = 8\n",
    "      learning_rate = 1e-5\n",
    "      \n",
    "      if target_mode == 'judging':\n",
    "\n",
    "        num_epochs = 3\n",
    "        batch_size = 16\n",
    "        learning_rate = 1e-5\n",
    "      \n",
    "      if target_mode == 'intuitive':\n",
    "\n",
    "        num_epochs = 3\n",
    "        batch_size = 16\n",
    "        learning_rate = 1e-5\n",
    "      \n",
    "      if target_mode == 'extravert':\n",
    "\n",
    "        num_epochs = 3\n",
    "        batch_size = 16\n",
    "        learning_rate = 1e-5\n",
    "\n",
    "      return (MAX_LEN, num_epochs, learning_rate, batch_size)\n",
    "\n",
    "    if text_type == 'liked tweets':\n",
    "      \n",
    "      num_epochs = 3\n",
    "      batch_size = 8\n",
    "      learning_rate = 1e-5\n",
    "      \n",
    "      if target_mode == 'judging':\n",
    "\n",
    "        num_epochs = 3\n",
    "        batch_size = 16\n",
    "        learning_rate = 1e-5\n",
    "      \n",
    "      if target_mode == 'intuitive':\n",
    "\n",
    "        num_epochs = 3\n",
    "        batch_size = 16\n",
    "        learning_rate = 1e-5\n",
    "      \n",
    "      if target_mode == 'extravert':\n",
    "\n",
    "        num_epochs = 3\n",
    "        batch_size = 16\n",
    "        learning_rate = 1e-5\n",
    "\n",
    "      return (MAX_LEN, num_epochs, learning_rate, batch_size)\n",
    "    \n",
    "    print(\"WARNING: TEXT TYPE NOT VALID\")\n",
    "    return (MAX_LEN, num_epochs, learning_rate, batch_size)\n",
    "      "
   ],
   "metadata": {
    "collapsed": false,
    "pycharm": {
     "name": "#%%\n"
    }
   }
  },
  {
   "cell_type": "code",
   "execution_count": 113,
   "outputs": [],
   "source": [
    "df['bio'] = df['bio'].apply(lambda x: sanitize(str(x)))\n",
    "df['statuses'] = df['statuses'].apply(lambda x: sanitize(str(x)))\n",
    "df['liked_tweets'] = df['liked_tweets'].apply(lambda x: sanitize(str(x)))\n",
    "\n",
    "df['bio'] = df['bio'].apply(lambda x: remove_urls(str(x)))\n",
    "df['statuses'] = df['statuses'].apply(lambda x: remove_urls(str(x)))\n",
    "df['liked_tweets'] = df['liked_tweets'].apply(lambda x: remove_urls(str(x)))"
   ],
   "metadata": {
    "collapsed": false,
    "pycharm": {
     "name": "#%%\n"
    }
   }
  },
  {
   "cell_type": "code",
   "execution_count": 114,
   "outputs": [],
   "source": [
    "def sample_frame(df, target_mode, text_type):\n",
    "    print(df)\n",
    "    sample_size = min(len(df[df[target_mode]==1]), len(df[df[target_mode]==0]))\n",
    "    print(sample_size)\n",
    "\n",
    "    data_A = df[df[target_mode] == 1][[text_type, target_mode]].sample(sample_size)\n",
    "    data_B = df[df[target_mode] == 0][[text_type, target_mode]].sample(sample_size)\n",
    "\n",
    "    train_data_df = data_A.append(data_B).sample(frac = 1, random_state = 43).reset_index(drop = True)\n",
    "\n",
    "    sentences = train_data_df[text_type].values\n",
    "    labels = train_data_df[target_mode].values\n",
    "\n",
    "    sns.histplot(train_data_df[text_type].apply(lambda x: len(x.split())))\n",
    "\n",
    "    return train_data_df, sentences, labels"
   ],
   "metadata": {
    "collapsed": false,
    "pycharm": {
     "name": "#%%\n"
    }
   }
  },
  {
   "cell_type": "code",
   "execution_count": 115,
   "outputs": [
    {
     "name": "stdout",
     "output_type": "stream",
     "text": [
      "      extravert  thinking  intuitive  judging  \\\n",
      "0           0.0       0.0        0.0      1.0   \n",
      "1           1.0       0.0        0.0      1.0   \n",
      "2           0.0       0.0        0.0      1.0   \n",
      "3           0.0       1.0        1.0      1.0   \n",
      "4           1.0       1.0        1.0      0.0   \n",
      "...         ...       ...        ...      ...   \n",
      "3843        1.0       0.0        1.0      1.0   \n",
      "3844        1.0       1.0        0.0      1.0   \n",
      "3845        0.0       1.0        1.0      0.0   \n",
      "3846        1.0       0.0        1.0      0.0   \n",
      "3847        1.0       0.0        1.0      1.0   \n",
      "\n",
      "                                                    bio  \\\n",
      "0      Freelance #writer, novelist, Catholic wife an...   \n",
      "1      , books, food, feminism, and YouTube. Recipe ...   \n",
      "2                                         ako lang to ;   \n",
      "3      Always a work in progress✨untamed Indigenous....   \n",
      "4      Professional Photographer 📸 He/him. Opinions=...   \n",
      "...                                                 ...   \n",
      "3843   Mom | | Cardiology MSN RN | activist | femini...   \n",
      "3844   Emergency Medicine Resident @mention @mention...   \n",
      "3845               waiting for an apocalypse • • he/him   \n",
      "3846   I guess I’m bicoastal now | mother of puppies...   \n",
      "3847   I'm so soft. || - A || SW-6037-1979-3784 || 8...   \n",
      "\n",
      "                                           liked_tweets  \\\n",
      "0      ['What, after all, is the mission of men if n...   \n",
      "1      ['One punny anti-Trump sign spotted in London...   \n",
      "2      ['@popesm 'Some people really are living in a...   \n",
      "3      ['There is a lot of disgusting behaviors that...   \n",
      "4      ['BITCH WE’RE NOMINATED FOR AN MTV AWARD @men...   \n",
      "...                                                 ...   \n",
      "3843   ['FOURTEEN WHOLE PAGES? Lookit Tolstoy ovah h...   \n",
      "3844   ['مواطنة سعودية تنجح في زراعة 100 ألف شجرة مو...   \n",
      "3845   ['is trimurthi chalaney ok? 'I was awake when...   \n",
      "3846   ['good evening, clarice '“we’ll figure it out...   \n",
      "3847   'mood 'removing ram from a computer while it’...   \n",
      "\n",
      "                                               statuses  \n",
      "0      ['GUILTY ON ALL COUNTS!!! 'Third degree murde...  \n",
      "1      ['I knew immediately where the photo of Task ...  \n",
      "2      ['one person followed me and one person unfol...  \n",
      "3      ['I dunno who did this, but I thank you. \"Rya...  \n",
      "4      [\"Viola Davis' dress is gorgeous.\", 'Brasil. ...  \n",
      "...                                                 ...  \n",
      "3843   \"Oh, honey. Don't forget to take off your gla...  \n",
      "3844   ['Motivation 💪 'اللهم اجعلنا من أصحاب الحمد ع...  \n",
      "3845   ['Another day, same crushed hope\\nSomething I...  \n",
      "3846   ['Say after me, I release all negative emotio...  \n",
      "3847   ['Wala bang motivation diyan', \"Kung hindi ga...  \n",
      "\n",
      "[3848 rows x 7 columns]\n",
      "1713\n"
     ]
    },
    {
     "data": {
      "text/plain": "<Figure size 432x288 with 1 Axes>",
      "image/png": "[encoded data removed]"
     },
     "metadata": {
      "needs_background": "light"
     },
     "output_type": "display_data"
    }
   ],
   "source": [
    "target_mode = 'judging'\n",
    "text_type = 'bio'\n",
    "\n",
    "MAX_LEN, num_epochs, learning_rate, batch_size = compute_params(text_type, target_mode)\n",
    "\n",
    "train_data_df, sentences, labels = sample_frame(df, target_mode, text_type)\n",
    "\n",
    "import torch.nn.functional as F\n",
    "\n",
    "labels = F.one_hot(torch.tensor(labels).to(torch.int64), num_classes=2)\n",
    "\n",
    "train_inputs, validation_inputs, train_labels, validation_labels = train_test_split(sentences, labels, test_size=0.08)"
   ],
   "metadata": {
    "collapsed": false,
    "pycharm": {
     "name": "#%%\n"
    }
   }
  },
  {
   "cell_type": "code",
   "execution_count": 116,
   "outputs": [
    {
     "data": {
      "text/plain": "tensor([[0, 1],\n        [1, 0],\n        [1, 0],\n        [0, 1],\n        [0, 1],\n        [0, 1],\n        [0, 1],\n        [1, 0],\n        [0, 1],\n        [0, 1],\n        [1, 0],\n        [0, 1],\n        [0, 1],\n        [1, 0],\n        [1, 0],\n        [1, 0],\n        [1, 0],\n        [0, 1],\n        [1, 0],\n        [0, 1],\n        [1, 0],\n        [0, 1],\n        [1, 0],\n        [0, 1],\n        [1, 0],\n        [0, 1],\n        [0, 1],\n        [1, 0],\n        [0, 1],\n        [1, 0],\n        [0, 1],\n        [1, 0],\n        [0, 1],\n        [0, 1],\n        [0, 1],\n        [0, 1],\n        [0, 1],\n        [0, 1],\n        [1, 0],\n        [0, 1],\n        [0, 1],\n        [1, 0],\n        [0, 1],\n        [0, 1],\n        [0, 1],\n        [1, 0],\n        [1, 0],\n        [1, 0],\n        [1, 0],\n        [0, 1],\n        [0, 1],\n        [0, 1],\n        [0, 1],\n        [0, 1],\n        [1, 0],\n        [1, 0],\n        [1, 0],\n        [1, 0],\n        [0, 1],\n        [1, 0],\n        [1, 0],\n        [0, 1],\n        [0, 1],\n        [1, 0],\n        [0, 1],\n        [1, 0],\n        [0, 1],\n        [1, 0],\n        [1, 0],\n        [1, 0],\n        [1, 0],\n        [0, 1],\n        [1, 0],\n        [0, 1],\n        [0, 1],\n        [0, 1],\n        [1, 0],\n        [1, 0],\n        [1, 0],\n        [0, 1],\n        [0, 1],\n        [0, 1],\n        [1, 0],\n        [0, 1],\n        [1, 0],\n        [0, 1],\n        [0, 1],\n        [0, 1],\n        [0, 1],\n        [0, 1],\n        [1, 0],\n        [0, 1],\n        [0, 1],\n        [0, 1],\n        [1, 0],\n        [1, 0],\n        [1, 0],\n        [0, 1],\n        [0, 1],\n        [1, 0],\n        [0, 1],\n        [1, 0],\n        [1, 0],\n        [0, 1],\n        [1, 0],\n        [0, 1],\n        [1, 0],\n        [1, 0],\n        [0, 1],\n        [0, 1],\n        [1, 0],\n        [0, 1],\n        [0, 1],\n        [1, 0],\n        [1, 0],\n        [0, 1],\n        [1, 0],\n        [1, 0],\n        [0, 1],\n        [0, 1],\n        [0, 1],\n        [1, 0],\n        [0, 1],\n        [0, 1],\n        [0, 1],\n        [0, 1],\n        [1, 0],\n        [1, 0],\n        [0, 1],\n        [1, 0],\n        [0, 1],\n        [0, 1],\n        [0, 1],\n        [1, 0],\n        [0, 1],\n        [0, 1],\n        [1, 0],\n        [0, 1],\n        [0, 1],\n        [0, 1],\n        [1, 0],\n        [0, 1],\n        [1, 0],\n        [0, 1],\n        [1, 0],\n        [0, 1],\n        [1, 0],\n        [1, 0],\n        [0, 1],\n        [0, 1],\n        [0, 1],\n        [1, 0],\n        [0, 1],\n        [0, 1],\n        [0, 1],\n        [0, 1],\n        [1, 0],\n        [1, 0],\n        [1, 0],\n        [0, 1],\n        [1, 0],\n        [1, 0],\n        [0, 1],\n        [1, 0],\n        [0, 1],\n        [0, 1],\n        [0, 1],\n        [0, 1],\n        [1, 0],\n        [1, 0],\n        [0, 1],\n        [0, 1],\n        [0, 1],\n        [1, 0],\n        [0, 1],\n        [1, 0],\n        [1, 0],\n        [0, 1],\n        [1, 0],\n        [0, 1],\n        [1, 0],\n        [1, 0],\n        [0, 1],\n        [1, 0],\n        [1, 0],\n        [0, 1],\n        [1, 0],\n        [1, 0],\n        [0, 1],\n        [1, 0],\n        [0, 1],\n        [0, 1],\n        [1, 0],\n        [0, 1],\n        [0, 1],\n        [1, 0],\n        [1, 0],\n        [1, 0],\n        [0, 1],\n        [1, 0],\n        [0, 1],\n        [0, 1],\n        [1, 0],\n        [1, 0],\n        [0, 1],\n        [0, 1],\n        [1, 0],\n        [1, 0],\n        [0, 1],\n        [0, 1],\n        [1, 0],\n        [0, 1],\n        [1, 0],\n        [0, 1],\n        [1, 0],\n        [0, 1],\n        [1, 0],\n        [0, 1],\n        [1, 0],\n        [1, 0],\n        [0, 1],\n        [1, 0],\n        [1, 0],\n        [0, 1],\n        [0, 1],\n        [1, 0],\n        [1, 0],\n        [0, 1],\n        [0, 1],\n        [1, 0],\n        [1, 0],\n        [1, 0],\n        [1, 0],\n        [1, 0],\n        [0, 1],\n        [0, 1],\n        [1, 0],\n        [1, 0],\n        [0, 1],\n        [1, 0],\n        [0, 1],\n        [0, 1],\n        [1, 0],\n        [1, 0],\n        [0, 1],\n        [0, 1],\n        [0, 1],\n        [0, 1],\n        [0, 1],\n        [0, 1],\n        [1, 0],\n        [1, 0],\n        [0, 1],\n        [0, 1],\n        [0, 1],\n        [1, 0],\n        [0, 1],\n        [0, 1],\n        [0, 1],\n        [1, 0],\n        [0, 1],\n        [0, 1],\n        [1, 0],\n        [1, 0],\n        [1, 0],\n        [0, 1],\n        [1, 0],\n        [1, 0],\n        [0, 1],\n        [1, 0],\n        [0, 1],\n        [1, 0],\n        [0, 1],\n        [0, 1],\n        [1, 0]])"
     },
     "execution_count": 116,
     "metadata": {},
     "output_type": "execute_result"
    }
   ],
   "source": [
    "validation_labels"
   ],
   "metadata": {
    "collapsed": false,
    "pycharm": {
     "name": "#%%\n"
    }
   }
  },
  {
   "cell_type": "code",
   "execution_count": 117,
   "outputs": [
    {
     "data": {
      "text/plain": "array([\" 1913. |Ole Miss & UCA Alumna | Football ❤️er | | Empathy, Learner, Command, Intellection, Connectedness | Hotty Toddy | Sic 'em | 1Cor. 16:14\",\n       ' Daughter of the King. .',\n       ' NSFW ART. Comissions closed 19 yrs old // He/Him //',\n       ' 🏳️\\u200d🌈 ENG/GER OK!! • NB • They/Them • 26 • • Illustrator & Webtoon Artist • full-time fashion consultant • 🔞NSFW • ✉️',\n       ' take care of yourself, you deserve to be happy 🌸 • she/her',\n       ' . number cruncher.',\n       ' Human + dog mama. . @mention alumna. Building global teams and programs @mention (always hiring - DM me!). I rarely tweet, but when I do...my opinions my own 🤓',\n       ' CUSE 🍊 ➡️ BOS ☘️ ➡️ DC📍Vegan 🌱 Just came for the music 🎶 ANTI-RACISM 👊🏼 She/Her 💜 Unapologetic advocate for doing what’s right ✊🏼 -T 😌',\n       ' Work hard, play hard .. # #LoveYourself',\n       ' pat • 21 • • she/her | 𝐨𝐧𝐥𝐲 𝐭𝐡𝐞 𝐥𝐢𝐯𝐢𝐧𝐠 𝐤𝐧𝐨𝐰 𝐯𝐢𝐜𝐭𝐨𝐫𝐲.',\n       ' She/Her🧜\\u200d♀️Owner @mention Nut🏃\\u200d♀️🧘\\u200d♀️🫐',\n       ' “You’re never too important to be nice to people.” PR gal looking for good coffee, adventure, cute clothes, & low carb foods. | | ☕️☀️🌻💟',\n       ' // // 5’1” • ♊️♓️♉️ • • 🇻🇳💯♥️',\n       \" 19 - Twitch Affiliate Streamer & Cosplayer - nonbinary—they/them - - Instagram @mention - Please don't repost my pictures! - Check out my website ⬇️\",\n       ' Writer, book lover, . For cardio, I try to outrun my monsters 🏳️\\u200d🌈🇿🇦👋🏾',\n       ' She/Her/Hers #romancewriter. Aries, apocaloptimist, , Campaigner. Stay for the #chickens and #pugs. Subscribe for updates:',\n       \" |medulla oblongata, i'm an impulse| | artist | 🌹 | IG 📸: aliecee / alieceeart\",\n       \" Ragamuffin. Silly for dogs! Prev: @mention Booktrovert Ally | Settler| | She/Her | Bookish | Kindness | Empathy Disabled (Image: 'reading'; Nathalie Jomard)\",\n       ' History grounds us. Culture humanizes us. Travel ties us all together | #travel writer | contributor @mention @mention @mention |',\n       ' medical student 🤓•🔥• TH lover🎤•Super🚀•queen of happines 👑• snapchat: rmiyajan5 👻 @mention صلحو اجهزتكم',\n       ' 📍 NJ/NYC || 🇪🇬 x 🇳🇮 || || Cosplayer + Podcast Host || he/him || ❤️💜💙 Cons: Colossal East, AnimeNYC',\n       ' - (T) | Taken ❣️',\n       ' Enlighten me 💫🌟✨✨ idk wtf im doing, ever. * * how do you shut your brain off? lm here for a long time, not a good time.',\n       ' — whatever you do sis, keep it cute sis',\n       ' : TOURING GIRL |🇨🇦 & #FMTY ✈️. Lover of factoids,graph charts, cats and long walks to dollarama. SCRABBLE ADDICT. 🍍PayPal: DM ME 🐈',\n       ' type',\n       ' Heavy footed northern lass, music lover, food enthusiast and Olympic weightlifter :) Senior Business Analyst and #.',\n       ' ♊︎☉•♋︎☽•♋︎↑. . astro, music & weed. #BLM. bi. MCU fan. she/her. part time tvd stan #klaroline',\n       ' 🐍 Slytherin🐍-ASUKA WWE-Goro Miya-Bokuaka-The Young Avengers-Smiler- BJ MD (BestBoySyN)',\n       ' 28yo she/her · 🔞 · cosplayer · · dabihawks trashcan',\n       ' Android S/W, Photo, Sport, Baseball, Football, Trip, Culture, Music, Movie, Relationship, Beer, Common Sense, 소양인,',\n       ' A learner & observer 1st. . Fan of trains,cozy drinks,& peace. Mind can be all over the place.Oh & MarketingGrad.Chats on creativity.',\n       ' Retired Global Partnership Exec @mention Proud dad & gdad, avid woodworker, Amateur Radio (WB5ANX). Meyers-Briggs . All opinions are mine.',\n       ' Nonprofit capacity builder. Creative. Techie. # #NPtech #PMOT #LGBTQ These words are my own. He/Him/His',\n       ' 26, He/him, I do a bunch of stuff. But not lately... . Will constantly like R-18 things. CuriousCat:',\n       \" Ren ☆ 29 ☆ She/Her ☆ ☆ 내가 샤이니 멤버 다섯명 다 응원합니다 ☆ 기범이 💕 ☆ 수고했어요 종현 🥀 ☆ OnKey 🌈 ☆ Someone I'm not ashamed to be 💗💛💙 Mostly over at @mention ☆\",\n       ' I always wanted to live in another century but in the meantime I read and watch period dramas (and also anime and fanfics). Hufflepuff. . 27. 🦉',\n       ' I hold with those who favor fire. | 💼 Agent: Sean Barclay @mention The Gersh Agency | 8÷2(2+2) | | keeps receipts 💅 | Supports Amy Klobuchar for VP |',\n       ' Founder @mention Growth @mention Ex @mention @mention Dog Dad 🐶 Adventure Seeker 🏔 Photographer 📸 ✌🏻#Looptail #PayItForward',\n       ' @mention film podcaster @mention @mention Film podcast guest: @mention @mention',\n       ' Creative, cinephile, tech lover, Disney geek, pop culture junkie, gamer, car singer, thinker, dreamer, and doer. (he/him/his) 🏳️\\u200d🌈',\n       ' @mention Councillor for 40,000+ in #Mudgeeraba & #GoldCoast Hinterland. Married to @mention Dad of 3 boys. #. Writer for @mention',\n       ' Founder at The Olson Co, currently working with the amazing team @mention Aspiring horticulturist, , and mom to two incredible boys 🌱',\n       ' 🇵🇭🇮🇹 Media Personality. Writer. GA State University Alum. Nerd. Yogi. Traveler. Dog IG: @mention',\n       ' insufferable eater of plants 🌱// feminist killjoy // bookworm // theatre facilitator // 🇺🇸in🇬🇧',\n       ' I am',\n       ' Entrepreneur architect & competitive swimmer at triple point of creativity, analytics & spirituality. Father, husband, construction modeler, , AMDG, coder',\n       ' instructor collaborating on @mention learning, teaching, sharing. Proponent of good software, good music, good times. he/him.',\n       ' Leo • • P96 🐅 • Mom of 4 • Fiercely GenX • Contributing Writer, @mention & @mention @mention @mention @mention',\n       ' ･ English Translation Student # #artist 🎨♡ ･ Instagram & TikTok: rmxad',\n       ' I work for @mention Michigan native. @mention grad. Recovering math major. Christian. . #1 fan of @mention @mention and @mention #nooxfordcomma',\n       ' Low-carb/keto nutrition writer & enthusiast. USAF veteran; woodwind player. INTROVERT/. My specialty: \"Keto Without the Crazy.\"™ But first, coffee.',\n       \" Father of 2, purveyor of awesome, keeper of common sense. . Real 'glue' guy in the room. Tweets are mine, ALL MINE!! Voted 'Most likely to be swiped left'.\",\n       ' 🌸🌱 • 25↑ • she/they • • personal/art acc – FFXIV, FE3H & OC stuff • 🔞nsfw/nudity! 18+ only!!🔞 • 🌱🌸',\n       ' “My soul comes from better worlds and I have an incurable homesickness of the stars.” -Nikos Kazantzakis. #BLACKLIVESMATTER ♊️ #',\n       ' Fmr senior pentagon official (me-x-SecDef)|Navy veteran|S&T strategist|Love peace|Hate racism|One Earth|Rocket views',\n       ' Writer, teacher, YouTuber, fangirl, , SCBWI, founder of @mention #TeamADHD. She/Her. What more can be said? Rep: @mention Banner By: @mention',\n       \" ''This is my last war'' she/her -\",\n       ' 92’s. . Freelance Translator. Fan of Romance Language. A Nightime Thinker.',\n       ' Digital content and UX professional. Father and husband. /. Vegetarian. #ADHD Views expressed are my own.',\n       \" L'Institut National Polytechnique Félix HOUPHOUËT-BOIGNY a été crée le 04 septembre 1996 et comprend 6 Grandes Ecoles: ESI, ESCAE, ESMG, , ESA, EFCPC.\",\n       ' NO SOY Microman • Known taker of the low road• Lucha Libre shit poster • RTs are NOT endorsements but they can• @mention LuchaTalk• 5W4',\n       ' Constantly evolving and certainly fighting //',\n       ' Mental Health Blogger, Mezzo Soprano, Scrum Master, Life Coach, Photographer, Yorkshire Lass, Bipolar. Loves Cats, Chicago Bears, the Gym. I’m a 7w8 Sp/Sx',\n       ' I honestly just come here to laugh. I just might figure out your personality type based off your tweets 😉, ♎️.',\n       ' Passionate about Energy, the Environment, Entrepreneurship & Education. I like @mention @mention & my MBTI is .',\n       ' Powered by love, sunshine, prayer, & iced-coffees | Seek beauty & virtue | | Farm to live | Engineer for good | Figure it out then build | RT&Fav≠Endorse',\n       \" Artist I ARMY | MM Reader | | She/Her | Please don't repost my art | @mention on IG/Tumblr | My bts art: @mention on IG | Icon by @mention\",\n       ' YA writer. Always listening, but sometimes deaf. Words are my people. SCBWI. . #librarylife',\n       ' | Everything that has the beginning has an end.',\n       ' meio maluco das ideias | streamer folgado | iniciante a game dev | | (ele/he) |',\n       ' Passionate about engaging people, building communities, and fostering relationships. all the way! Computer Programming student @mention',\n       ' . Open policy: open education & open science, open data, open source. Co-founder of #PyConSK, ❤️ #Python & #Django. RT / follow ≠ endorsement.',\n       ' I like humans, words, and good coffee. 📚 Bestselling Author ☕️ Introvert () 💥 Life Coach for your God-sized dream',\n       \" ✿ nonbinary Black (20+ or its a block) General cartoon and comic enthusiast. if its nerdy or cute i'm probably into it!\",\n       ' Freelance Identity Designer, 29, French. . @mention ❤️ Commission opened SHOP :',\n       ' Lead UX tester for LMS, accessibility advocate, formerly of Apple,blind gamer/geek girl, professionally trained vocalist, Jersey girl/latina, . #ME patient.',\n       ' ♊️♏️♍️ #BLM Alliteration. Bold lip. Dad jokes. . Meditation. Naps. Spirituality. Trauma. Yoga. Hates queue jumpers on public transport but supports refugees',\n       \" I'm just a human (she/her) this go round, trying the best I can to leave this place better than I found it. adoptee, poet, mamabear, untethered HSP /\",\n       ' , 1bit, New Product Design, UI Planning, SCUBA-diving, paragliding, Snowboarding, Wakeboarding, Marathon, Bike...etc.',\n       ' She/her + they/them. Ravenclaw. Whovian. Browncoat. Fanson. . Childfree. Pro-choice. Disabled. Asexual. Atheist. Feminist. Very fucking sweary.',\n       ' Pisces- .',\n       ' (fan account) queen of seladrienators || head of pr for @mention @mention @mention',\n       ' Associate Art Director making books @mention Penguin Workshop • she/they • Queer & bread enthusiast • Opinions are my own',\n       ' A tall growling creative - Deep thoughts and lighthearted observations - - Chaotic Neutral - Your local tea drinking kinkster - 🍵 📸 🖥 🎧 - he/him',\n       ' LoL, memes e matérias nas horas vagas. - 2000 - Administração de Empresas - Twitteira - paiN Gaming e São Paulo Futebol Clube são protegidos nesse perfil.',\n       ' What can I say? Here for some enjoyable banter, live in East Dorset, stopped growing up aged 28 :) The sloth is my spirit animal.',\n       ' She/her. Proud mama, clinical research nurse, Trekkie, cosplayer, gamer, MtGer, fitness nut, cat lady, nerd🤓 bi/pan weirdo💚🖤 Always fight the Nausicaan.',\n       ' ╴yellow (n.) dua lipa. | @mention | she/her | |',\n       ' 29. Worst Strategic Winner. . He/Him. 🏳️\\u200d🌈',\n       ' Dad. Writer. Scenester - WORLDLY THINGS, Max Ritvo Poetry Prize 2021, @mention | Bd President @mention | Bd Member @mention | | ♈️♐️♋️',\n       ' / Church Crawler / Story Teller / Historian / Author of THE SLEEP OF REASON: How Modernity & Intention Shaped The Holocaust -',\n       ' So log me in and out of my life. -Ariel Pink 📚Author. 📈Marketer. ✈️Traveler. ♀Feminist. 💬. Memes at PR 🇵🇷🏝️💃',\n       ' I never cursed before November 8, 2016. #BlackLivesMatter #Resist #HR1 #SB1 #RestoreVRA RTs *do* = endorsement',\n       ' 23 year old french-canadian dude who draws tit art and cartoony ladies . NO MINORS ALLOWED 🔞. Every character I draw are 18+. Salut :)',\n       ' sponsored by @mention | she/her | 22 | Leo | | ger | Tartaglia simp 🥴✨',\n       ' Furry. 🦊. Weirdo. Hobbist Game/VR Jack of trades. Engineer. Blender Head. Foodie. Maker. . He/him.',\n       ' Composer. Conductor. Writer. (apparently). My book about being a composer: My music on Spotify, Apple, etc.',\n       ' Recruiting, Sourcing, Strategy, Innovation, Ethical AI, Data/Analytics, Search/Match, Lean, Agile, Social Engineering. Speaker, Blogger, , He/Him',\n       ' #DAL. Hot sauce connoisseur. 80s movie quote machine. #. (These tweets are my own - you read me?)',\n       ' Neighborhood Hope Dealer • الله أكبر 📿 • Justice League NYC ✊🏾 • • Tweets are my own',\n       ' Doctor, Music Junkie, Jedi. Bigger than my body. /A',\n       ' #gaymer : #PSN: HeisRandy | Star Wars; comic books; MCU; British style - @mention Coopers + @mention foodie | [Made in Hawaii] \\uf8ff',\n       ' Google Certified Trainer + SS teacher | YA book hoarder + wanna-be author | 2x Presidential Fitness Award + no longer athletic | | she/her (opinions=mine)',\n       ' he/him ♂ feminist 🏳️\\u200d🌈 black magic writer 💾 like a lilo losing air 💨 ᴎoiTAɘᴙↄ ꟻo mAɘᴙTꙅ ɘHT ᴎi ꟻAɘl A 🍃 you have beauty, survive the night 💛❤',\n       ' Director of @mention helping as many people as possible to obtain and maintain a healthy lifestyle :) #RealFoodRocks #',\n       ' ◦ vegan ◦ they/she ◦ 🔞 ◦ professional drawer: nickelodeon; CTN◦',\n       ' married to an . 2 beautiful daughters. Christian, Author, Publicist. A Worthy Heart 2020 #selahaward finalist',\n       ' taurus sun, scorpio moon — enneagram 3 — 🤍 journalism and mass communication ba ‘21, ma ‘22 pres @mention vp @mention',\n       ' Sr. Dir. of Comms for USA for UNHCR (@UNRefugeeAgency), elevating #refugee voices. @mention alum. . Living the dream w/ @mention & our small human.',\n       ' Truth Seeker / Optimist / / @mention Alum / Previous: News Anchor @mention & @mention / Obligatory: RTs & Follow ≠ endorsement, views = mine alone.',\n       ' Gamer, @mention Partner, Alpha Male, 📧',\n       ' CEO Hogan Security. , board dir, mentor, traveler, Philly sports please & thank you #Security #Innovation #Marketing #Inclusion UK accent US zip. 🔥walker',\n       ' am: Staff Engineer @mention Keynote Speaker. @mention ¶ was: @mention ¶ always: . Ravenclaw. Beyoncé. #BΔΚ #BlackTechTwitter ¶ Opinions are @mention ¶ she/her',\n       ' Student Affairs / Higher Ed Professional aka College Campus Educator. East Coast Product Recently Exported To California...🙌🏾💡📚 Tweets are my own. Team',\n       ' 많이 힘들어죠? 괜찮아. 다 잘될거야 ♡ | 비투비 💙 펜타곤 💜 데이식스 💚 육섭 • 홍킨 • 황인엽 | Fan Account | | she/her',\n       ' Christian, husband, father, foster parent, auxiliary police constable, and associate vice president, external relations at Redeemer University.',\n       ' i wrote that song for betty — ☼ virgo ☽ sagittarius ↑leo — 19 she/her',\n       ' VP Product Management, , Vegan, Spartan, NerdNYC, X-Card, Game & UX Design, Artist, DM, RPGs, BLM, LinkedIn:',\n       ' GM at Leader Publications. Truth pursuer, small business supporter, downtown dweller, avid reader, sunset seeker. she/her • 3w2 •',\n       ' MSN-Ed, DNP student, Air Force ER nurse. . Boy mama 💙 and dog mama. 🐾',\n       ' Coffee Scientist at KMO. SCA member. Chaotic Neutral . This machine kills fascists.',\n       ' AP @mention // New Yorker via NJ, UK, MA // // Proud @mention graduate //',\n       ' Prospective Member of the Senedd for Cardiff North | Cardiff Councillor | Small Business Owner | Christian | Trustee | Twizy Owner | |',\n       ' Long-time cover designer typesetter, proofreader, editor. Also writing my first novel – yeah-yeah, I know, like everyone else is! :) #',\n       ' • nail blogger • navy spouse • dog mom • shameless fall out boy fan • 6w5/ • ✉️ PR Inquiries:',\n       ' “don’t you think maybe they are the same thing? love and attention?” • scorpio ☼ • pisces ☽ • •',\n       ' Love beautiful music, exquisite voices, inspiring words, the endless diversity of Culture, the breathtaking beauty of Nature, the mysteries of Life. •',\n       ' Editora de lifestyle y deportes en @mention MPPP por @mention Hablo mucho de #F1. . Todo aquí es a título personal.',\n       ' naturally curly // she/her //',\n       ' Short for Low Earth Orbit 🛰️🌎 Futurist. . Lover of @mention and new things. ☈ #bitcoin',\n       ' 24. probably listening to tame impala. occasional gamer/weeb. .',\n       ' Striving for balance and happiness in my rollercoaster life. #Scorpio # #History lover',\n       ' Podcaster: Host of The First Time I Heard• Co-host of @mention Music nerd • Disciple• w/ADHD• Spreading ❤️😂 & what’s good in my corner of the 🌍',\n       ' sanguinis-koleris • 👓',\n       ' Tatum’s dad. & CEO. Marketplace/SEO vet. Ski/MTB. . Published on TNW, Entrepreneur, more. Alum $ZG, Distilled. Likes 🥃 & 🏔.',\n       ' sam • ~ LA • CHARMMusic• 🏳️\\u200d🌈 (8123) • Project Manager @mention GBTRS • • twitch sleepyhead • ur probably muted 🤍',\n       ' Gregory. He/They. 29. /. Pisces. Magical Boy. ✨🍃🥝✨ FC: 1339-8672-4405',\n       ' Author of stories with snarky women, ragtag crews, and men with bad attitudes. Freelance editor. and Aries/Taurus cusp. She/her',\n       ' A bit deviant from the flow | Ph.D. student @mention | M.S. @mention | B.S. @mention | I study storm behavior |',\n       ' 25 | she/her | | Libra | Slytherin | Cosplayer | Bujo | Snickerdoodle Enthusiast | Biologist | NJ | Obara in Westeros: An American Musical',\n       ' DISA Joint Service Provider COOP/COG, Married to @mention 😍, Toastmasters Club Coach, , SGI, Chief Election Judge, Foodie, Travel, Ballroom Dancing🕺',\n       ' Operations Director-Services @mention Alumni @mention Husband, Dad & big fan of @mention . The possibilities are endless. Personal views.',\n       ' Retired Conservative Christian, 2 time cancer survivor! I post, re-tweet or comment on items that interest me - may or may not agree with them! Humor!',\n       ' Celebrating the rich tradition of argumentative Indians. Libertarian, because I value your freedom of speech & choice. Aᴠᴇʀᴀɢᴇ Wʀɪᴛᴇʀ # @mention Chief',\n       ' Working Hard for Alaskan Families as a member of the Alaska State Senate. #907 #/ #akleg',\n       ' Husband + Father + Music + 311 👽 + Travel + Sports! + Tower Ten Photography | Ravenclaw | Enneagram 5w4 |',\n       ' 。・゜ ♡ 。CEO of burn ・゜♡ ・゜ ♡ 。・ ♡ ゜・ candado: @mention 。。 .♡ ・゜♡ ゜・. 。 . * ACAB・♡ ° . ・゜♡ 。. she/any - ・゜ ♡SW: 1830 1531 7431',\n       ' Qualified 💅🏾 Tech x Yogini 🧘🏾\\u200d♀️ x GIF Queen 👑 x N.M Always 🦄 x ✨x 🐢 Muva BossBarbBeauty 💅🏾 & PrepWithDeb 👩🏾\\u200d🍳',\n       ' کِرمِ کتاب📚 خبرنگار هستم و فارغ التحصیل سیاست :)',\n       ' 📝 Content Strategist & Speaker. I share what I read: #videomarketing #SEO #tech. Feminist. Futurist. @mention & @mention Alum.',\n       ' Aquarius/ | Social Media at @mention Voice on @mention | Knows Too Much About Greek Myths, Shakira, & Theatre | She/Her | Opinions my own',\n       ' Public Affairs Strategist ❤️ @mention , Cooking, Workouts & @mention 🇺🇸🇨🇮🇬🇧 ♉️🏳️\\u200d🌈🧘🏻\\u200d♂️ #',\n       ' Corgi with Sass! 32, he/him 🎷Musical Doggo🎷 Corgi Events LLC Owner. Open with @mention @mention suiter. #hornyonmain, Deal with it. ACAB',\n       \" Jesus-lover. Jesse's wife. Mom of 4 + Foster Mom. Author. Speaker. Podcaster. Founder= Joy-chaser. Book-reader. Adventure-seeker. . 8w7.\",\n       ' Digital empath, #, Autodidact, 𝓲𝓷𝓭𝓮𝓹𝓮𝓷𝓭𝓮𝓷𝓽 𝓻𝓮𝓼𝓮𝓪𝓻𝓬𝓱𝓮𝓻, #SETG, 𝐃𝐨 𝐧𝐨 𝐡𝐚𝐫𝐦, 𝐓𝐚𝐤𝐞 𝐧𝐨 𝐬𝐡𝐢𝐭. I came here to laugh at you.',\n       ' wolfstar is superior. ~ gryffindor. . ~ ☼ virgo. ☾ gemini. ↑ pisces. ~ hp. mcu. sherlock. doctor who. outlander. b99. atyd.',\n       ' Husband, father, producer, musician, engineer, gamer, techie, nerd, whatever you like. And by you, I mean I. . $ymfonikz.',\n       ' very proud Texan.. Professional Dj. # life Coldplay and mutemath #newmusic @mention better than @mention snap: michaelmojica',\n       ' 𝐒𝐞𝐥𝐟-𝐭𝐚𝐮𝐠𝐡𝐭 𝐀𝐫𝐭𝐢𝐬𝐭. 𝐆𝐚𝐦𝐞𝐫/𝐂𝐨𝐟𝐟𝐞𝐞𝐡𝐨𝐥𝐢𝐜. #',\n       ' TN Director of HBCU Success. Millennial, , and math/data nerd. @mention 💁🏾\\u200d♀️ @mention 👩🏾\\u200d💻 and @mention Tweets are my own.',\n       ' ~The Visionary~Thinking Big Picture In My Overloaded Brain of Connected Ideas at Amazing Speed~Waiting On You & Your Detail',\n       ' Product Executioner | CATALYST | | @mention and @mention Alum | @mention dropout',\n       ' Caffeine-fuelled technology, media & telecoms solicitor. @mention colts cricket coach. . Prob ASD. Pro-EU. Opinions not legal advice. Likes = bookmarks.',\n       ' ★ Cancerian ★ ★ Jeweller ★ Career Recruiter ★ Career Coach ★ Animal Lover ★ IG @mention @mention | #worldpeace #notoanimalcruelty #bekind',\n       ' Visiting Prof of Educ Savannah State Univ. (2019-20) & \"Professor Emeritus\" (Nova SE Univ); Gator; 🍎 \"Illegitimi non carborundum\"',\n       ' Musician turned HIED #marcom pro (BM/MEd). Univ Relations @mention Writer. . Wifey. Auntie. Clean-eating foodie. Follower of Jesus.',\n       ' Husband & Pastor who loves Jesus, & baked mac and cheese. | 5 w 4',\n       ' Father, UW Master’s of Sustainable Transportation ‘21 • Transit • Cycling • Bothell Arts Commission Member. Myers Briggs: . Opinions are my own. #bothell',\n       ' ou boba da corte',\n       ' Information synthesizer. Non-bro white dude. Yankee, intolerant of intolerance. Entrepreneur. Programmer. Tesla fanboy. Is this still 1999? #',\n       ' Storyteller; former WSJ scribe, communications and marketing expert; connector of dots, lover of WDF -- wine, dogs and food; . All views are my own.',\n       ' she/her | Passionate | Intense | Clumsy |Charming | Funniest on Wednesdays | | Film | BC Survivor | Love to Love',\n       ' Passionate Relationship Marketer | Community Builder | Connector | Creative Thinker | Life-Long Learner | -Ambivert | Global Citizen | Bon Vivant',\n       ' 💙🐑👨🏻\\u200d💻👨🏻\\u200d🏫⛰♻️Tar Heel. outdoors. healthcare/higher ed/digital media savvy. #trailblazer # #dork following ≠endorsement',\n       ' The | Business Adm UI 2013',\n       ' I don’t know what you do but I do thangs. #jw',\n       \" Mechanical Engineer, , I'm not an actor, I just play one on TV (Instagram: noeltapia)\",\n       ' He/Him ♂️ | Student, Game collector, LBP fan, YTPer, Dem, | DMs are open | Owns: @mention & @mention',\n       ' mini pigs don’t stay tiny forever | small obsession with true crime | | talking history makes me giddy | November 5, 2018 | #recoveryposse #frewstrong',\n       ' ♎️ Enneagram 2',\n       ' ⭐ONLY 전공/majored in English literature/닉네임 상강/무병장수⭐ 와 사이⭐리트윗이 많을 때도 있음',\n       ' LVL 41 Gamer. Indie Writer. Whovian. . Critter. Mostly Sarcastic. Crit it like you mean it.',\n       ' Formerly enterprise software now Blockchain. Trained by the Corporations. // Opinions are my own.',\n       ' Communications professional 📝 Trivia nerd 🤓 Enthusiastic pedestrian 🚶 PB&J lover 🥪 🧠 He/him 🌈',\n       ' Cybersecurity Engineer: MSSP SOAR/SIEM consultant, proserv, Fluent in Russian, DC area, Harley enthusiast, ADHD, LGBTQIA+, /P, ateamo, He/they',\n       ' An arsitek yg bucin thai tea. Penganut aliran',\n       ' UXR / / ARIES SUN / RAVENCLAW / TRUE NEUTRAL / ENNEAGRAM 2 / HE / HIM / 🖕🏽',\n       ' Public affairs consultant who also runs a simple politics YouTube and TikTok',\n       ' Protester. writer. student. . STL girl. #CampaignZero co-founder. contact:',\n       ' Academic EM/IM Doc. Husband to @mention GirlDad. Musician, book nut, bad golfer, outdoorsman. . Lover of God, football, whisk(e)y, & fountain pens.',\n       ' UNT chi omega | she/her | 5w6 |',\n       ' 26 • enby, they/them • panro/ace • eng/fr • 420 friendly • ♑ • • 🇨🇦🇱🇧🇸🇾 ♡ animal crossing, pokemon, LoL, anime, cartoons ♡',\n       ' Streamer on @mention 🇱🇧🌱 | vry c00l vry edGY ☁️ | 🌙 | ･ﾟ･ ♡ ♡ ♡･ﾟ･',\n       ' Cosmic Catalyst Coach & Realignment Strategist • Agency Mktg Manager @mention (tweets her own) • Theater Performer • Terp PhD • • Sacral Generator',\n       ' nerd² - # - Pharma Freak - Science enthusiast - I curse.',\n       ' FinTech / Venture sponge💡| 🧠 | biz camp @mention 📚 | podcasting @mention 🎙 | venture fellow @mention 🍐 and @mention 🔍 | ex- @mention 📈',\n       ' An introverted old nerd. Married. #LGBQ #resistance This is my outlet in a red family. Just want to go fishing. #BLM #Microbiologist No DM’s',\n       ' he/him/él | Doctoral Candidate | Strategic Learning Partner| Former Educator | | Bilingual | Latino| Tweets represent my own views 🏳️\\u200d🌈👨\\u200d❤️\\u200d👨',\n       \" Serena, a nerd; loves to read. Don't Repost My Art!!! (Semi NSFW)♉/Pan/ || TheRaikume Commissions Opened!\",\n       ' Author, photographer, filmmaker, teacher... I want a horse & a time machine. #authormentormatch R3 Mentee #dyslexic #',\n       ' living with mental illnesses and ADHD• perfectionist in recovery• • witchy vibes• she/her.',\n       ' Producer / Reporter for @mention ✉️ kcabrera@kut.org. Alum @mention (UTPA) + @mention 💃🏾Tejana, Libra & #puro956 #RGV 🦔 Neurodivergent She/Her',\n       ' Isko. Film. LPT. HIV Counselor. CBS Motivator. Peer Support Specialist for Mental Health. ❤️ Singing, Boardgames & Cats. He/Him/They/Them. . WIP.',\n       ' 👑✌🏾@WCNC 5, 6 & 11pm Anchor W/@SarahSFrench - Retweets likely not Endorsements WTVD, WGN, WXII & WCTI Alum #Tarheel Bred Chicago Fortified # Fred@wcnc.com',\n       ' Scottish, Sicilian, Texan, Independent. J.D. Sauntering vaguely downward . . . #',\n       \" #Destiny addict. Inside Kid. . I write at I'm one Titan at @mention podcast. I Make Webinars Better.\",\n       ' aquarius. 18. writer of words. . queer. lover of earth. anti-imperialist. agnostic. BLM. socialist. ☮️',\n       ' Web Strategist & Director @mention - websites for the church, Pastor @mention Musician, Husband, Father of 4. , High-D, Cat person, massive geek.',\n       ' A Cool Dad, Co-Host of Phantom Galaxy and Casting the Bones Podcast, Writer, Photographer, , Scorpio, Haberdasher.',\n       ' Father of twins. . I dunno. @mention Director of Video Content @mention Former: National Advance @mention Current: Hire me.',\n       \" Science & creativity cheerleader. I'm not a unicorn: writing life, wild horses, equality, and the world's wonder. MS. ECE, MA. K-12 Libraries (she/her)\",\n       ' Reloading...',\n       \" A gal that's just trying to figure out the inner workings of her brain without going insane in the process. Mountains, ocean, nature... and skydiving ✈️\",\n       ' Just living for the hope of it all. 🎶 💬 Terrible with answering DMs.',\n       ' 🐸3d SCULPTOR | TABLE TOP/ MINI NERD | MARXIST |',\n       ' || I draw sometimes',\n       ' just an - whose inner machinations of his mind are an enigma; who wants to be born as choi sungyoon in his next life.',\n       ' 👽 #BLM 🏳️\\u200d🌈#PLUR',\n       ' you... ripping all my clothes off in a darkened swimming pool. people might talk, @mention | 21, 🏳️\\u200d🌈, • \"don\\'t cry, i\\'m wearing prada.\"',\n       ' #여원 & #신. she/her. 23. . sometimes i trade photocards',\n       ' ˚ || svt atz tbz nct || 1/3 ☽ squad 🐍 house || wonhui enthusiast 💛',\n       ' Full-Stack Designer #GenX Digital Overlord # #MarcosNotAHero #BasuraSiDuterte #BulokAngKongreso #NoCoffeeNoLife',\n       ' Painter. Avid reader. Collector of the peculiar.',\n       ' she/her • gamer • wannabe artist • lvl 25 • • chaotic lesbian 🏳️\\u200d🌈🇧🇷',\n       \" Enseignant chercheur à l'. Doctorant en prospective au CNAM. Je cherche à faire connaître le Modèle Social du handicap de l'ONU\",\n       ' 22 | they/she | | im just a grandma | part time artist, full time cowboy | two gerbils in a coat 🐭',\n       ' Filmmaker•Sometimes Actress•Anime Junkie•Comic Book Enthusiast•Typical Millennial••She/her',\n       ' Dad, Co-Founder & CTO at @mention Engineer, Builder, Geek, Guitar, Music, LGBT, Philanthropy, Agile & Lean, . Relentlessly Curious',\n       ' • Broke music student, voice actor, and artist • They/Them • 22 • Personal account: (@BirdsOfACheddar) • Commissions closed',\n       ' she/her. Bi. |DND|MoreCoffee ☕ Hopeful Romantic, Soft Punk. ♐☀️|♏🌕| ♉⬆️ I market stuff, and write homebrew ttrpg things 🧛\\u200d♀️🧛\\u200d♂️🦇',\n       ' Sarcasm is relieving. # حقيقي سمحة العافية ❤️ #تتزفت_تسقط_بس فلنحتسي كوباً من شاي اللبن.',\n       ' random shit.',\n       ' 📱 Digi Comms 💻 | 📷 Freelance #Photographer 🎥| 🍎⌚️ | 🐢 Keeper | HAM Op 📻 | Geocacher 🛰 | Transport Geek ✈️🚄🚌 | # | 🇵🇭 | Past Sabb | Pin Collector',\n       ' Lives for Fluff | Loves Squeak | Enjoys Photomaking | | Fluff Enthusiast | Cuddle Master | Did I mention I like Fluff?',\n       \" Fan Account • Look kid, there's a lot going on here that you don't understand • 📚☕🐱🏞🎶 and @mention 💙 •\",\n       \" I'm Sasu!よろしくね～! ♪Ace♪ They/them ♪ ♪ 26♪ ╯*:･ﾟ✧ icon @mention\",\n       ' ela/dela',\n       ' Bi | Biomed student | Norse | SG & MFY Fursuiter | | Photographer | Science! | @mention Reindeer boyfriend',\n       ' ᅠ ᅠᅠshe/he | me gusta dibujar gtarp, anime y streamers jaja. ᅠ ᅠᅠacuario, 7w8 | lvl 16 | aroace 🌈 | tmb roleo en twitterᅠ ᅠᅠ ᅠ ᅠᅠ',\n       ' #NYkr🗽 #Disabled♿ #Deafie🤟🏾 #Ethereal🌌 # #Flexitarian🥗 #AwesomelyAutistic🧠 #PanRom 🎨🇯🇲🇵🇷🎮',\n       ' 🇰🇷 | LoL Coach/Analyst | CLGA | ASU | USC 2022 | | Pisces',\n       ' Lover, fighter, & daydreamer. Stereotypical . Pleasantly unpleasant. 🇵🇦—♌️☀️♎️🌙',\n       ' 24 / she/her / DSM, IA. dog mother + former pro softballa + nat’l champ ‘17 + wannabe plant lady + 4w3 / / cancer. mostly photos & retweets. :-)',\n       ' EN/SP ✨ , 27, Multifandom, cosplays approved by Kojima, Druckmann, Guerrilla and 🎮🕹Kojima es mi pastor▪️',\n       \" My tweets have been called 'on point' and also 'vaguely unhinged'. and proud of it. He/him.\",\n       ' Desde que nasci sou tricolor 🇪🇪@gremio IF-Sul Técnico em Plásticos|',\n       ' andi | artist | student | birder | | pokemon | hollow knight | kofi: | commissions:',\n       ' Creating connection w/Words | Music | DJing | @mention & DC | Team # | FB: Playmajmusic | IG: Playmajmusic',\n       ' Reluctant toon star. Invisible hand. #Bakugan #Ninjago #DragaliaLost #Wishfart #TotalDramaRama Dust: An Elysian Tail VO director. King of Raccoon Style.',\n       \" De artes • ♏ | / | Hago cospli y recreación histórica desde que soy un moco. | Manqueo en el LoL | ''If not you, then who? If not now, then when?'' ❤\",\n       ' 32 otoños | | Adicta a los libros y los cómics | Rolera | Gamer de bien | Series de animación | Dibujanta | Aprendiendo doblaje 🎙',\n       ' || A non-smoker who loves to laugh || Master || Industrial Psychology || Associate || Food.',\n       ' && Web Programmer',\n       ' . Crazy Cat Lady. Talent Agent. Photographer. Florida Gator (c/o 2010). Potential Slayer. Introverted Extrovert. Theatre Nerd.',\n       ' 25 | | 4w5', ' |she/her| ig:senpai_des|',\n       ' Managing Partner-- Digital Marketing Group👑, SEO Yogi🧘🏾\\u200d♂️ , Brand Builder💹, Full Time Nerd🤓, Big Data Hound🕵🏽\\u200d♂️, Polymath🧐, Polyglot👨🏽\\u200d🔬, 👨🏾\\u200d⚖️',\n       ' LDN • Your friendly neighbourhood gal | 💌 | IG: @mention',\n       \" I'm cosette 😉 teochew, canadian, , love drawing LOZ + my OCs\",\n       ' creating a positive practice environment for nurses & midwives 🏳️\\u200d🌈 him/he/his-',\n       \" /thō'-jek/ n. Computer/web geek, reader, husband, father, Myers-Briggs /, etc. Not necessarily in that order. (I don't speak for anyone but myself.)\",\n       ' like glitter and gold || / gemini / 3w2',\n       ' @mention @mention Founder, animal lover, insomniac , Samcoin maximalist. Unrealized unicorn exit. All views are mine. Usually shitposting for lols.',\n       ' medicine ♡ .', ' #',\n       ' Editor of @mention Currently writing \"David Bowie On Track\" for @mention ADHD/LGBT/. Follow me on IG:',\n       ' rest',\n       ' Librarian. Writer. Blogger at Miss Print since 2007. Feminist. Amateur spy. Zen af. Incredibly pithy. Freaky witch. . Opinions my own. she/her',\n       \" Jamaican Sled God. Level 10 Internet Ranger. This twitter's for the jokes. Professional Twitter: @mention #UT17 #TexasEx\",\n       ' #RESIST! #Veteran, USAF. 🇺🇸Advocate #StrongerTogether #HigherEd 🖖🏻Animal-loving, aspiring vegan 🚴🏻Tikkun olam ~ Tantum eruditi sunt liberi #GoDodgers',\n       \" I am Toucan let me fly. #takenote . Keelah Se'lai\",\n       ' 📖 Writer, Reader, Tea drinker, Daydreamer, Logophile, Postgrad student 📚 She/her 4w5 #spoonie #pwME Rep: @mention',\n       ' Tech. Marketing. Formerly @mention Fashion. Occasional Writer. London Lead at @mention . @mention Fiend',\n       \" Progressive, Parkinson's Warrior, wildlife advocate, dog lover, coffee addict, Irish Catholic baseball fanatic, Staten Island 🍎 NYC native #LGM # #Resist\"],\n      dtype=object)"
     },
     "execution_count": 117,
     "metadata": {},
     "output_type": "execute_result"
    }
   ],
   "source": [
    "validation_inputs"
   ],
   "metadata": {
    "collapsed": false,
    "pycharm": {
     "name": "#%%\n"
    }
   }
  },
  {
   "cell_type": "code",
   "execution_count": 118,
   "outputs": [
    {
     "data": {
      "text/plain": "      extravert  thinking  intuitive  judging  \\\n0           0.0       0.0        0.0      1.0   \n1           1.0       0.0        0.0      1.0   \n2           0.0       0.0        0.0      1.0   \n3           0.0       1.0        1.0      1.0   \n4           1.0       1.0        1.0      0.0   \n...         ...       ...        ...      ...   \n3843        1.0       0.0        1.0      1.0   \n3844        1.0       1.0        0.0      1.0   \n3845        0.0       1.0        1.0      0.0   \n3846        1.0       0.0        1.0      0.0   \n3847        1.0       0.0        1.0      1.0   \n\n                                                    bio  \\\n0      Freelance #writer, novelist, Catholic wife an...   \n1      , books, food, feminism, and YouTube. Recipe ...   \n2                                         ako lang to ;   \n3      Always a work in progress✨untamed Indigenous....   \n4      Professional Photographer 📸 He/him. Opinions=...   \n...                                                 ...   \n3843   Mom | | Cardiology MSN RN | activist | femini...   \n3844   Emergency Medicine Resident @mention @mention...   \n3845               waiting for an apocalypse • • he/him   \n3846   I guess I’m bicoastal now | mother of puppies...   \n3847   I'm so soft. || - A || SW-6037-1979-3784 || 8...   \n\n                                           liked_tweets  \\\n0      ['What, after all, is the mission of men if n...   \n1      ['One punny anti-Trump sign spotted in London...   \n2      ['@popesm 'Some people really are living in a...   \n3      ['There is a lot of disgusting behaviors that...   \n4      ['BITCH WE’RE NOMINATED FOR AN MTV AWARD @men...   \n...                                                 ...   \n3843   ['FOURTEEN WHOLE PAGES? Lookit Tolstoy ovah h...   \n3844   ['مواطنة سعودية تنجح في زراعة 100 ألف شجرة مو...   \n3845   ['is trimurthi chalaney ok? 'I was awake when...   \n3846   ['good evening, clarice '“we’ll figure it out...   \n3847   'mood 'removing ram from a computer while it’...   \n\n                                               statuses  \n0      ['GUILTY ON ALL COUNTS!!! 'Third degree murde...  \n1      ['I knew immediately where the photo of Task ...  \n2      ['one person followed me and one person unfol...  \n3      ['I dunno who did this, but I thank you. \"Rya...  \n4      [\"Viola Davis' dress is gorgeous.\", 'Brasil. ...  \n...                                                 ...  \n3843   \"Oh, honey. Don't forget to take off your gla...  \n3844   ['Motivation 💪 'اللهم اجعلنا من أصحاب الحمد ع...  \n3845   ['Another day, same crushed hope\\nSomething I...  \n3846   ['Say after me, I release all negative emotio...  \n3847   ['Wala bang motivation diyan', \"Kung hindi ga...  \n\n[3848 rows x 7 columns]",
      "text/html": "<div>\n<style scoped>\n    .dataframe tbody tr th:only-of-type {\n        vertical-align: middle;\n    }\n\n    .dataframe tbody tr th {\n        vertical-align: top;\n    }\n\n    .dataframe thead th {\n        text-align: right;\n    }\n</style>\n<table border=\"1\" class=\"dataframe\">\n  <thead>\n    <tr style=\"text-align: right;\">\n      <th></th>\n      <th>extravert</th>\n      <th>thinking</th>\n      <th>intuitive</th>\n      <th>judging</th>\n      <th>bio</th>\n      <th>liked_tweets</th>\n      <th>statuses</th>\n    </tr>\n  </thead>\n  <tbody>\n    <tr>\n      <th>0</th>\n      <td>0.0</td>\n      <td>0.0</td>\n      <td>0.0</td>\n      <td>1.0</td>\n      <td>Freelance #writer, novelist, Catholic wife an...</td>\n      <td>['What, after all, is the mission of men if n...</td>\n      <td>['GUILTY ON ALL COUNTS!!! 'Third degree murde...</td>\n    </tr>\n    <tr>\n      <th>1</th>\n      <td>1.0</td>\n      <td>0.0</td>\n      <td>0.0</td>\n      <td>1.0</td>\n      <td>, books, food, feminism, and YouTube. Recipe ...</td>\n      <td>['One punny anti-Trump sign spotted in London...</td>\n      <td>['I knew immediately where the photo of Task ...</td>\n    </tr>\n    <tr>\n      <th>2</th>\n      <td>0.0</td>\n      <td>0.0</td>\n      <td>0.0</td>\n      <td>1.0</td>\n      <td>ako lang to ;</td>\n      <td>['@popesm 'Some people really are living in a...</td>\n      <td>['one person followed me and one person unfol...</td>\n    </tr>\n    <tr>\n      <th>3</th>\n      <td>0.0</td>\n      <td>1.0</td>\n      <td>1.0</td>\n      <td>1.0</td>\n      <td>Always a work in progress✨untamed Indigenous....</td>\n      <td>['There is a lot of disgusting behaviors that...</td>\n      <td>['I dunno who did this, but I thank you. \"Rya...</td>\n    </tr>\n    <tr>\n      <th>4</th>\n      <td>1.0</td>\n      <td>1.0</td>\n      <td>1.0</td>\n      <td>0.0</td>\n      <td>Professional Photographer 📸 He/him. Opinions=...</td>\n      <td>['BITCH WE’RE NOMINATED FOR AN MTV AWARD @men...</td>\n      <td>[\"Viola Davis' dress is gorgeous.\", 'Brasil. ...</td>\n    </tr>\n    <tr>\n      <th>...</th>\n      <td>...</td>\n      <td>...</td>\n      <td>...</td>\n      <td>...</td>\n      <td>...</td>\n      <td>...</td>\n      <td>...</td>\n    </tr>\n    <tr>\n      <th>3843</th>\n      <td>1.0</td>\n      <td>0.0</td>\n      <td>1.0</td>\n      <td>1.0</td>\n      <td>Mom | | Cardiology MSN RN | activist | femini...</td>\n      <td>['FOURTEEN WHOLE PAGES? Lookit Tolstoy ovah h...</td>\n      <td>\"Oh, honey. Don't forget to take off your gla...</td>\n    </tr>\n    <tr>\n      <th>3844</th>\n      <td>1.0</td>\n      <td>1.0</td>\n      <td>0.0</td>\n      <td>1.0</td>\n      <td>Emergency Medicine Resident @mention @mention...</td>\n      <td>['مواطنة سعودية تنجح في زراعة 100 ألف شجرة مو...</td>\n      <td>['Motivation 💪 'اللهم اجعلنا من أصحاب الحمد ع...</td>\n    </tr>\n    <tr>\n      <th>3845</th>\n      <td>0.0</td>\n      <td>1.0</td>\n      <td>1.0</td>\n      <td>0.0</td>\n      <td>waiting for an apocalypse • • he/him</td>\n      <td>['is trimurthi chalaney ok? 'I was awake when...</td>\n      <td>['Another day, same crushed hope\\nSomething I...</td>\n    </tr>\n    <tr>\n      <th>3846</th>\n      <td>1.0</td>\n      <td>0.0</td>\n      <td>1.0</td>\n      <td>0.0</td>\n      <td>I guess I’m bicoastal now | mother of puppies...</td>\n      <td>['good evening, clarice '“we’ll figure it out...</td>\n      <td>['Say after me, I release all negative emotio...</td>\n    </tr>\n    <tr>\n      <th>3847</th>\n      <td>1.0</td>\n      <td>0.0</td>\n      <td>1.0</td>\n      <td>1.0</td>\n      <td>I'm so soft. || - A || SW-6037-1979-3784 || 8...</td>\n      <td>'mood 'removing ram from a computer while it’...</td>\n      <td>['Wala bang motivation diyan', \"Kung hindi ga...</td>\n    </tr>\n  </tbody>\n</table>\n<p>3848 rows × 7 columns</p>\n</div>"
     },
     "execution_count": 118,
     "metadata": {},
     "output_type": "execute_result"
    }
   ],
   "source": [
    "df"
   ],
   "metadata": {
    "collapsed": false,
    "pycharm": {
     "name": "#%%\n"
    }
   }
  },
  {
   "cell_type": "markdown",
   "source": [
    "**BERT Classifier**"
   ],
   "metadata": {
    "collapsed": false
   }
  },
  {
   "cell_type": "code",
   "execution_count": 119,
   "outputs": [
    {
     "name": "stdout",
     "output_type": "stream",
     "text": [
      " Parent, techie, devsecops, queer, dreamer, outdoorsy. #. Quick to smile, terribly shy. Derby saved my soul.. ♌⚧ #queergirl #girlslikeus #derbytwitter\n"
     ]
    },
    {
     "name": "stderr",
     "output_type": "stream",
     "text": [
      "IOPub data rate exceeded.\n",
      "The notebook server will temporarily stop sending output\n",
      "to the client in order to avoid crashing it.\n",
      "To change this limit, set the config variable\n",
      "`--NotebookApp.iopub_data_rate_limit`.\n",
      "\n",
      "Current values:\n",
      "NotebookApp.iopub_data_rate_limit=1000000.0 (bytes/sec)\n",
      "NotebookApp.rate_limit_window=3.0 (secs)\n",
      "\n"
     ]
    }
   ],
   "source": [
    "print(train_inputs[1])\n",
    "tokenizer = BertTokenizer.from_pretrained('bert-base-uncased', do_lower_case=True)\n",
    "\n",
    "train_encodings = tokenizer([sent for sent in train_inputs], max_length= MAX_LEN, padding= 'max_length', truncation= True)\n",
    "validation_encodings = tokenizer([sent for sent in validation_inputs], max_length= MAX_LEN,  padding= 'max_length', truncation= True)\n",
    "import torch\n",
    "\n",
    "class MBTIDataset(torch.utils.data.Dataset):\n",
    "    def __init__(self, encodings, labels):\n",
    "        self.encodings = encodings\n",
    "        self.labels = labels\n",
    "\n",
    "    def __getitem__(self, idx):\n",
    "        item = {key: torch.tensor(val[idx]) for key, val in self.encodings.items()}\n",
    "        item['labels'] = self.labels[idx]\n",
    "        return item\n",
    "\n",
    "    def __len__(self):\n",
    "        return len(self.labels)\n",
    "\n",
    "train_dataset = MBTIDataset(train_encodings, train_labels)\n",
    "val_dataset = MBTIDataset(validation_encodings, validation_labels)\n",
    "\n",
    "print([batch for batch in train_dataset])\n",
    "\n",
    "from torch.utils.data import DataLoader\n",
    "from transformers import BertForSequenceClassification, AdamW\n",
    "\n",
    "if torch.cuda.is_available():\n",
    "    device = torch.device('cuda')\n",
    "\n",
    "print(device)"
   ],
   "metadata": {
    "collapsed": false,
    "pycharm": {
     "name": "#%%\n"
    }
   }
  },
  {
   "cell_type": "code",
   "execution_count": 120,
   "outputs": [
    {
     "name": "stdout",
     "output_type": "stream",
     "text": [
      "thinking\n",
      "\n",
      "\n"
     ]
    },
    {
     "name": "stderr",
     "output_type": "stream",
     "text": [
      "Some weights of the model checkpoint at bert-base-uncased were not used when initializing BertForSequenceClassification: ['cls.predictions.transform.dense.bias', 'cls.predictions.transform.dense.weight', 'cls.seq_relationship.weight', 'cls.predictions.transform.LayerNorm.weight', 'cls.predictions.decoder.weight', 'cls.predictions.bias', 'cls.seq_relationship.bias', 'cls.predictions.transform.LayerNorm.bias']\n",
      "- This IS expected if you are initializing BertForSequenceClassification from the checkpoint of a model trained on another task or with another architecture (e.g. initializing a BertForSequenceClassification model from a BertForPreTraining model).\n",
      "- This IS NOT expected if you are initializing BertForSequenceClassification from the checkpoint of a model that you expect to be exactly identical (initializing a BertForSequenceClassification model from a BertForSequenceClassification model).\n",
      "Some weights of BertForSequenceClassification were not initialized from the model checkpoint at bert-base-uncased and are newly initialized: ['classifier.bias', 'classifier.weight']\n",
      "You should probably TRAIN this model on a down-stream task to be able to use it for predictions and inference.\n"
     ]
    },
    {
     "name": "stdout",
     "output_type": "stream",
     "text": [
      "\n",
      "======== Epoch 1 / 3 ========\n",
      "Training...\n",
      "  Accuracy: 0.54\n",
      "\n",
      "======== Epoch 2 / 3 ========\n",
      "Training...\n",
      "  Accuracy: 0.57\n",
      "\n",
      "======== Epoch 3 / 3 ========\n",
      "Training...\n",
      "  Accuracy: 0.54\n",
      "\n",
      "Training complete!\n",
      "Saving model to C:/Users/parth/PycharmProjects/Language Models/Models/bert_thinking_bio\n",
      "intuitive\n",
      "\n",
      "\n"
     ]
    },
    {
     "name": "stderr",
     "output_type": "stream",
     "text": [
      "Some weights of the model checkpoint at bert-base-uncased were not used when initializing BertForSequenceClassification: ['cls.predictions.transform.dense.bias', 'cls.predictions.transform.dense.weight', 'cls.seq_relationship.weight', 'cls.predictions.transform.LayerNorm.weight', 'cls.predictions.decoder.weight', 'cls.predictions.bias', 'cls.seq_relationship.bias', 'cls.predictions.transform.LayerNorm.bias']\n",
      "- This IS expected if you are initializing BertForSequenceClassification from the checkpoint of a model trained on another task or with another architecture (e.g. initializing a BertForSequenceClassification model from a BertForPreTraining model).\n",
      "- This IS NOT expected if you are initializing BertForSequenceClassification from the checkpoint of a model that you expect to be exactly identical (initializing a BertForSequenceClassification model from a BertForSequenceClassification model).\n",
      "Some weights of BertForSequenceClassification were not initialized from the model checkpoint at bert-base-uncased and are newly initialized: ['classifier.bias', 'classifier.weight']\n",
      "You should probably TRAIN this model on a down-stream task to be able to use it for predictions and inference.\n"
     ]
    },
    {
     "name": "stdout",
     "output_type": "stream",
     "text": [
      "\n",
      "======== Epoch 1 / 3 ========\n",
      "Training...\n",
      "  Accuracy: 0.52\n",
      "\n",
      "======== Epoch 2 / 3 ========\n",
      "Training...\n",
      "  Accuracy: 0.53\n",
      "\n",
      "======== Epoch 3 / 3 ========\n",
      "Training...\n",
      "  Accuracy: 0.53\n",
      "\n",
      "Training complete!\n",
      "Saving model to C:/Users/parth/PycharmProjects/Language Models/Models/bert_intuitive_bio\n",
      "judging\n",
      "\n",
      "\n"
     ]
    },
    {
     "name": "stderr",
     "output_type": "stream",
     "text": [
      "Some weights of the model checkpoint at bert-base-uncased were not used when initializing BertForSequenceClassification: ['cls.predictions.transform.dense.bias', 'cls.predictions.transform.dense.weight', 'cls.seq_relationship.weight', 'cls.predictions.transform.LayerNorm.weight', 'cls.predictions.decoder.weight', 'cls.predictions.bias', 'cls.seq_relationship.bias', 'cls.predictions.transform.LayerNorm.bias']\n",
      "- This IS expected if you are initializing BertForSequenceClassification from the checkpoint of a model trained on another task or with another architecture (e.g. initializing a BertForSequenceClassification model from a BertForPreTraining model).\n",
      "- This IS NOT expected if you are initializing BertForSequenceClassification from the checkpoint of a model that you expect to be exactly identical (initializing a BertForSequenceClassification model from a BertForSequenceClassification model).\n",
      "Some weights of BertForSequenceClassification were not initialized from the model checkpoint at bert-base-uncased and are newly initialized: ['classifier.bias', 'classifier.weight']\n",
      "You should probably TRAIN this model on a down-stream task to be able to use it for predictions and inference.\n"
     ]
    },
    {
     "name": "stdout",
     "output_type": "stream",
     "text": [
      "\n",
      "======== Epoch 1 / 4 ========\n",
      "Training...\n",
      "  Accuracy: 0.54\n",
      "\n",
      "======== Epoch 2 / 4 ========\n",
      "Training...\n",
      "  Accuracy: 0.54\n",
      "\n",
      "======== Epoch 3 / 4 ========\n",
      "Training...\n",
      "  Accuracy: 0.55\n",
      "\n",
      "======== Epoch 4 / 4 ========\n",
      "Training...\n",
      "  Accuracy: 0.50\n",
      "\n",
      "Training complete!\n",
      "Saving model to C:/Users/parth/PycharmProjects/Language Models/Models/bert_judging_bio\n"
     ]
    }
   ],
   "source": [
    "for target_mode in ['thinking', 'intuitive', 'judging']:\n",
    "\n",
    "    print(target_mode + '\\n\\n')\n",
    "\n",
    "    MAX_LEN, num_epochs, learning_rate, batch_size = compute_params(text_type, target_mode)\n",
    "\n",
    "    model = BertForSequenceClassification.from_pretrained('bert-base-uncased', num_labels = 2)\n",
    "    model.to(device)\n",
    "    model.train()\n",
    "\n",
    "    train_loader = DataLoader(train_dataset, batch_size= batch_size)\n",
    "    val_loader = DataLoader(val_dataset, batch_size= 64)\n",
    "\n",
    "    optim = AdamW(model.parameters(), lr= learning_rate, eps = 1e-8)\n",
    "\n",
    "    for epoch in range(num_epochs):\n",
    "\n",
    "        print(\"\")\n",
    "        print('======== Epoch {:} / {:} ========'.format(epoch + 1, num_epochs))\n",
    "        print('Training...')\n",
    "\n",
    "        t0 = time.time()\n",
    "\n",
    "        model.train()\n",
    "\n",
    "        for step, batch in enumerate(train_loader):\n",
    "\n",
    "            if step % 40 == 0 and not step == 0:\n",
    "\n",
    "                elapsed = format_time(time.time() - t0)\n",
    "\n",
    "              #  print('  Batch {:>5,}  of  {:>5,}.    Elapsed: {:}.'.format(step, len(train_loader), elapsed))\n",
    "\n",
    "            optim.zero_grad()\n",
    "\n",
    "            input_ids = batch['input_ids'].type(torch.LongTensor).detach().to(device)\n",
    "            attention_mask = batch['attention_mask'].type(torch.LongTensor).detach().to(device)\n",
    "            labels = batch['labels'].type(torch.LongTensor).detach().to(device)\n",
    "\n",
    "            outputs = model(input_ids, labels = labels.to(torch.float32))\n",
    "\n",
    "            loss = outputs.loss\n",
    "            loss.backward()\n",
    "            optim.step()\n",
    "\n",
    "\n",
    "      #  print(\"\")\n",
    "      #  print(\"Running Validation...\")\n",
    "\n",
    "        t0 = time.time()\n",
    "\n",
    "        model.eval()\n",
    "\n",
    "        eval_loss, eval_accuracy = 0, 0\n",
    "        nb_eval_steps, nb_eval_examples = 0, 0\n",
    "\n",
    "        for batch in val_loader:\n",
    "\n",
    "            b_input_ids = batch['input_ids'].type(torch.LongTensor).to(device)\n",
    "            b_input_mask = batch['attention_mask'].type(torch.LongTensor).to(device)\n",
    "            b_labels = batch['labels'].type(torch.LongTensor).to(device)\n",
    "\n",
    "            with torch.no_grad():\n",
    "\n",
    "                outputs = model(b_input_ids,\n",
    "                                token_type_ids=None,\n",
    "                                attention_mask=b_input_mask)\n",
    "\n",
    "            logits = outputs.logits\n",
    "\n",
    "            logits = logits.detach().cpu().numpy()\n",
    "            label_ids = b_labels.to('cpu').numpy()\n",
    "\n",
    "            tmp_eval_accuracy = flat_accuracy(logits, torch.argmax(torch.tensor(label_ids), dim=1))\n",
    "\n",
    "            eval_accuracy += tmp_eval_accuracy\n",
    "\n",
    "            nb_eval_steps += 1\n",
    "\n",
    "        print(\"  Accuracy: {0:.2f}\".format(eval_accuracy/nb_eval_steps))\n",
    "      #  print(\"  Validation took: {:}\".format(format_time(time.time() - t0)))\n",
    "\n",
    "    print(\"\")\n",
    "    print(\"Training complete!\")\n",
    "\n",
    "    output_dir = 'C:/Users/parth/PycharmProjects/Language Models/Models/' + 'bert_'+target_mode+ \"_\" + text_type\n",
    "\n",
    "    # Create output directory if needed\n",
    "    if not os.path.exists(output_dir):\n",
    "        os.makedirs(output_dir)\n",
    "\n",
    "    print(\"Saving model to %s\" % output_dir)\n",
    "\n",
    "    model_to_save = model.module if hasattr(model, 'module') else model  # Take care of distributed/parallel training\n",
    "    model_to_save.save_pretrained(output_dir)\n",
    "    tokenizer.save_pretrained(output_dir)"
   ],
   "metadata": {
    "collapsed": false,
    "pycharm": {
     "name": "#%%\n"
    }
   }
  },
  {
   "cell_type": "code",
   "execution_count": 95,
   "outputs": [
    {
     "name": "stdout",
     "output_type": "stream",
     "text": [
      "Thu Oct  7 19:56:21 2021       \n",
      "+-----------------------------------------------------------------------------+\n",
      "| NVIDIA-SMI 462.13       Driver Version: 462.13       CUDA Version: 11.2     |\n",
      "|-------------------------------+----------------------+----------------------+\n",
      "| GPU  Name            TCC/WDDM | Bus-Id        Disp.A | Volatile Uncorr. ECC |\n",
      "| Fan  Temp  Perf  Pwr:Usage/Cap|         Memory-Usage | GPU-Util  Compute M. |\n",
      "|                               |                      |               MIG M. |\n",
      "|===============================+======================+======================|\n",
      "|   0  GeForce RTX 307... WDDM  | 00000000:01:00.0 Off |                  N/A |\n",
      "| N/A   63C    P0    34W /  N/A |   4653MiB /  8192MiB |     14%      Default |\n",
      "|                               |                      |                  N/A |\n",
      "+-------------------------------+----------------------+----------------------+\n",
      "                                                                               \n",
      "+-----------------------------------------------------------------------------+\n",
      "| Processes:                                                                  |\n",
      "|  GPU   GI   CI        PID   Type   Process name                  GPU Memory |\n",
      "|        ID   ID                                                   Usage      |\n",
      "|=============================================================================|\n",
      "|    0   N/A  N/A     19404      C   ...ython\\Python39\\python.exe    N/A      |\n",
      "+-----------------------------------------------------------------------------+\n"
     ]
    }
   ],
   "source": [
    "!nvidia-smi"
   ],
   "metadata": {
    "collapsed": false,
    "pycharm": {
     "name": "#%%\n"
    }
   }
  },
  {
   "cell_type": "code",
   "execution_count": 28,
   "outputs": [],
   "source": [
    "from transformers import AutoTokenizer, AutoModelForSequenceClassification\n",
    "\n",
    "tokenizer = AutoTokenizer.from_pretrained(\"k-partha/bert_extravert_bio\")\n",
    "\n",
    "model = AutoModelForSequenceClassification.from_pretrained(\"k-partha/bert_extravert_bio\")\n",
    "\n",
    "model.eval()\n",
    "string = \"partying!\"\n",
    "\n",
    "string = tokenizer(string, return_tensors=\"pt\")[\"input_ids\"]\n",
    "outputs = model(string)\n",
    "\n",
    "import torch.nn as nn"
   ],
   "metadata": {
    "collapsed": false,
    "pycharm": {
     "name": "#%%\n"
    }
   }
  },
  {
   "cell_type": "code",
   "execution_count": 96,
   "outputs": [
    {
     "name": "stdout",
     "output_type": "stream",
     "text": [
      "tensor([[0.3902, 0.6098],\n",
      "        [0.5923, 0.4077],\n",
      "        [0.2556, 0.7444],\n",
      "        [0.1293, 0.8707],\n",
      "        [0.2521, 0.7479],\n",
      "        [0.0770, 0.9230],\n",
      "        [0.2777, 0.7223],\n",
      "        [0.1079, 0.8921],\n",
      "        [0.0461, 0.9539],\n",
      "        [0.2451, 0.7549],\n",
      "        [0.2188, 0.7812],\n",
      "        [0.1267, 0.8733],\n",
      "        [0.2642, 0.7358],\n",
      "        [0.1443, 0.8557],\n",
      "        [0.1647, 0.8353],\n",
      "        [0.2996, 0.7004],\n",
      "        [0.5163, 0.4837],\n",
      "        [0.5645, 0.4355],\n",
      "        [0.2512, 0.7488]], device='cuda:0')\n"
     ]
    }
   ],
   "source": [
    "import torch.nn as nn\n",
    "\n",
    "m = nn.Softmax(dim = 1)\n",
    "print(m(outputs.logits))"
   ],
   "metadata": {
    "collapsed": false,
    "pycharm": {
     "name": "#%%\n"
    }
   }
  },
  {
   "cell_type": "code",
   "execution_count": 96,
   "outputs": [],
   "source": [],
   "metadata": {
    "collapsed": false,
    "pycharm": {
     "name": "#%%\n"
    }
   }
  },
  {
   "cell_type": "code",
   "execution_count": 97,
   "outputs": [
    {
     "data": {
      "text/plain": "Downloading:   0%|          | 0.00/48.0 [00:00<?, ?B/s]",
      "application/vnd.jupyter.widget-view+json": {
       "version_major": 2,
       "version_minor": 0,
       "model_id": "a34f723723b94946a22afa99511f50c5"
      }
     },
     "metadata": {},
     "output_type": "display_data"
    },
    {
     "data": {
      "text/plain": "Downloading:   0%|          | 0.00/885 [00:00<?, ?B/s]",
      "application/vnd.jupyter.widget-view+json": {
       "version_major": 2,
       "version_minor": 0,
       "model_id": "1369e465880244a7b5d37643a9c4a0f2"
      }
     },
     "metadata": {},
     "output_type": "display_data"
    },
    {
     "data": {
      "text/plain": "Downloading:   0%|          | 0.00/256k [00:00<?, ?B/s]",
      "application/vnd.jupyter.widget-view+json": {
       "version_major": 2,
       "version_minor": 0,
       "model_id": "ac0e993d5e7a4bb381f4733ab1e2676e"
      }
     },
     "metadata": {},
     "output_type": "display_data"
    },
    {
     "data": {
      "text/plain": "Downloading:   0%|          | 0.00/112 [00:00<?, ?B/s]",
      "application/vnd.jupyter.widget-view+json": {
       "version_major": 2,
       "version_minor": 0,
       "model_id": "e24950e185d94331a2409a623c87ccf0"
      }
     },
     "metadata": {},
     "output_type": "display_data"
    },
    {
     "data": {
      "text/plain": "Downloading:   0%|          | 0.00/418M [00:00<?, ?B/s]",
      "application/vnd.jupyter.widget-view+json": {
       "version_major": 2,
       "version_minor": 0,
       "model_id": "80cbcd6640624ef687dc2b6056e059bb"
      }
     },
     "metadata": {},
     "output_type": "display_data"
    }
   ],
   "source": [
    "from transformers import AutoTokenizer, AutoModelForSequenceClassification\n",
    "\n",
    "tokenizer = AutoTokenizer.from_pretrained(\"k-partha/extrabert_bio\")\n",
    "\n",
    "model = AutoModelForSequenceClassification.from_pretrained(\"k-partha/extrabert_bio\")"
   ],
   "metadata": {
    "collapsed": false,
    "pycharm": {
     "name": "#%%\n"
    }
   }
  },
  {
   "cell_type": "code",
   "execution_count": 99,
   "outputs": [
    {
     "name": "stdout",
     "output_type": "stream",
     "text": [
      "SequenceClassifierOutput(loss=None, logits=tensor([[ 0.1269, -0.1437]], grad_fn=<AddmmBackward>), hidden_states=None, attentions=None)\n",
      "tensor([[0.5672, 0.4328]], grad_fn=<SoftmaxBackward>)\n"
     ]
    }
   ],
   "source": [
    "model\n",
    "string = \"Teetering bulb of dread and dream\"\n",
    "string = tokenizer(string, return_tensors=\"pt\")\n",
    "outputs = model(**string)\n",
    "print(outputs)\n",
    "print(m(outputs.logits))"
   ],
   "metadata": {
    "collapsed": false,
    "pycharm": {
     "name": "#%%\n"
    }
   }
  },
  {
   "cell_type": "code",
   "execution_count": 131,
   "outputs": [
    {
     "data": {
      "text/plain": "Index(['extravert', 'thinking', 'intuitive', 'judging', 'bio', 'liked_tweets',\n       'statuses'],\n      dtype='object')"
     },
     "execution_count": 131,
     "metadata": {},
     "output_type": "execute_result"
    }
   ],
   "source": [
    "df.columns"
   ],
   "metadata": {
    "collapsed": false,
    "pycharm": {
     "name": "#%%\n"
    }
   }
  },
  {
   "cell_type": "code",
   "execution_count": 136,
   "outputs": [],
   "source": [
    "write_file = open('C:/Users/parth/PycharmProjects/Language Models/' +'MASTER_DATA_CSV.csv', mode= 'w+', encoding= 'utf-16')\n",
    "\n",
    "origin_df[['statuses','bio','liked_tweets','extravert', 'thinking', 'intuitive', 'judging' ]].to_csv(write_file)\n",
    "\n",
    "df.to_csv()"
   ],
   "metadata": {
    "collapsed": false,
    "pycharm": {
     "name": "#%%\n"
    }
   }
  },
  {
   "cell_type": "code",
   "execution_count": null,
   "outputs": [],
   "source": [],
   "metadata": {
    "collapsed": false,
    "pycharm": {
     "name": "#%%"
    }
   }
  }
 ]
}